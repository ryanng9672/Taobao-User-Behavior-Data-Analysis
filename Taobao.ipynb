{
 "cells": [
  {
   "cell_type": "code",
   "execution_count": 1,
   "metadata": {},
   "outputs": [
    {
     "name": "stdout",
     "output_type": "stream",
     "text": [
      "   user_id  item_id  category_id behavior_type   timestamp\n",
      "0        1  2268318      2520377            pv  1511544070\n",
      "1        1  2333346      2520771            pv  1511561733\n",
      "2        1  2576651       149192            pv  1511572885\n",
      "3        1  3830808      4181361            pv  1511593493\n",
      "4        1  4365585      2520377            pv  1511596146\n"
     ]
    }
   ],
   "source": [
    "import pandas as pd\n",
    "\n",
    "\n",
    "column_names = ['user_id', 'item_id', 'category_id', 'behavior_type', 'timestamp']\n",
    "\n",
    "taobao_df = pd.read_csv(\n",
    "    r\"C:\\Users\\user\\Desktop\\JDE9\\Taobao User Behavior Data Analysis\\UserBehavior.csv\",\n",
    "    header=None,\n",
    "    names=column_names\n",
    ")\n",
    "\n",
    "\n",
    "print(taobao_df.head(5))"
   ]
  },
  {
   "cell_type": "code",
   "execution_count": 2,
   "metadata": {},
   "outputs": [
    {
     "name": "stdout",
     "output_type": "stream",
     "text": [
      "check_taobao_df how may row (100150807, 5)\n",
      "drop_duplicates to taobao_df (100150807, 5)\n"
     ]
    }
   ],
   "source": [
    "print(\"check_taobao_df how may row\",taobao_df.shape)\n",
    "taobao_df.drop_duplicates()\n",
    "print(\"drop_duplicates to taobao_df\",taobao_df.shape)"
   ]
  },
  {
   "cell_type": "code",
   "execution_count": 7,
   "metadata": {},
   "outputs": [
    {
     "data": {
      "text/plain": [
       "user_id          0\n",
       "item_id          0\n",
       "category_id      0\n",
       "behavior_type    0\n",
       "timestamp        0\n",
       "date             0\n",
       "time             0\n",
       "week             0\n",
       "hour             0\n",
       "dtype: int64"
      ]
     },
     "execution_count": 7,
     "metadata": {},
     "output_type": "execute_result"
    }
   ],
   "source": [
    "taobao_df.isnull().sum()"
   ]
  },
  {
   "cell_type": "code",
   "execution_count": 7,
   "metadata": {},
   "outputs": [
    {
     "name": "stdout",
     "output_type": "stream",
     "text": [
      "<class 'pandas.core.frame.DataFrame'>\n",
      "RangeIndex: 100150807 entries, 0 to 100150806\n",
      "Data columns (total 5 columns):\n",
      " #   Column         Dtype \n",
      "---  ------         ----- \n",
      " 0   user_id        int64 \n",
      " 1   item_id        int64 \n",
      " 2   category_id    int64 \n",
      " 3   behavior_type  object\n",
      " 4   timestamp      int64 \n",
      "dtypes: int64(4), object(1)\n",
      "memory usage: 3.7+ GB\n"
     ]
    }
   ],
   "source": [
    "taobao_df.info()"
   ]
  },
  {
   "cell_type": "code",
   "execution_count": 2,
   "metadata": {},
   "outputs": [
    {
     "name": "stdout",
     "output_type": "stream",
     "text": [
      "   user_id  item_id  category_id behavior_type                 timestamp\n",
      "0        1  2268318      2520377            pv 2017-11-25 01:21:10+08:00\n",
      "1        1  2333346      2520771            pv 2017-11-25 06:15:33+08:00\n",
      "2        1  2576651       149192            pv 2017-11-25 09:21:25+08:00\n",
      "3        1  3830808      4181361            pv 2017-11-25 15:04:53+08:00\n",
      "4        1  4365585      2520377            pv 2017-11-25 15:49:06+08:00\n"
     ]
    }
   ],
   "source": [
    "taobao_df['timestamp'] = pd.to_datetime(taobao_df['timestamp'], unit='s', utc=True)\n",
    "taobao_df['timestamp'] = taobao_df['timestamp'].dt.tz_convert('Asia/Shanghai')\n",
    "print(taobao_df.head(5))"
   ]
  },
  {
   "cell_type": "code",
   "execution_count": 3,
   "metadata": {},
   "outputs": [
    {
     "name": "stdout",
     "output_type": "stream",
     "text": [
      "   user_id  item_id  category_id behavior_type           timestamp\n",
      "0        1  2268318      2520377            pv 2017-11-25 01:21:10\n",
      "1        1  2333346      2520771            pv 2017-11-25 06:15:33\n",
      "2        1  2576651       149192            pv 2017-11-25 09:21:25\n",
      "3        1  3830808      4181361            pv 2017-11-25 15:04:53\n",
      "4        1  4365585      2520377            pv 2017-11-25 15:49:06\n"
     ]
    }
   ],
   "source": [
    "taobao_df['timestamp'] = taobao_df['timestamp'].dt.tz_localize(None)\n",
    "print(taobao_df.head(5))\n"
   ]
  },
  {
   "cell_type": "code",
   "execution_count": 4,
   "metadata": {},
   "outputs": [
    {
     "name": "stdout",
     "output_type": "stream",
     "text": [
      "   user_id  item_id  category_id behavior_type           timestamp  \\\n",
      "0        1  2268318      2520377            pv 2017-11-25 01:21:10   \n",
      "1        1  2333346      2520771            pv 2017-11-25 06:15:33   \n",
      "2        1  2576651       149192            pv 2017-11-25 09:21:25   \n",
      "3        1  3830808      4181361            pv 2017-11-25 15:04:53   \n",
      "4        1  4365585      2520377            pv 2017-11-25 15:49:06   \n",
      "\n",
      "         date      time week  \n",
      "0  2017-11-25  01:21:10  Sat  \n",
      "1  2017-11-25  06:15:33  Sat  \n",
      "2  2017-11-25  09:21:25  Sat  \n",
      "3  2017-11-25  15:04:53  Sat  \n",
      "4  2017-11-25  15:49:06  Sat  \n"
     ]
    }
   ],
   "source": [
    "def to_date(dt):\n",
    "    return dt.date()\n",
    "\n",
    "def to_time(dt):\n",
    "    return dt.time()\n",
    "\n",
    "def getWeek(dt):\n",
    "    return weekDict[dt.weekday()]\n",
    "\n",
    "\n",
    "weekDict = {0: 'Mon', 1: 'Tue', 2: 'Wed', 3: 'Thur', 4: 'Fri', 5: 'Sat', 6: 'Sun'}\n",
    "\n",
    "\n",
    "taobao_df['date'] = taobao_df['timestamp'].apply(to_date)\n",
    "taobao_df['time'] = taobao_df['timestamp'].apply(to_time)\n",
    "taobao_df['week'] = taobao_df['timestamp'].apply(getWeek)\n",
    "\n",
    "print(taobao_df.head(5))"
   ]
  },
  {
   "cell_type": "code",
   "execution_count": 5,
   "metadata": {},
   "outputs": [],
   "source": [
    "taobao_df['hour'] = taobao_df['time'].astype(str).str.split(':').str[0]"
   ]
  },
  {
   "cell_type": "code",
   "execution_count": 7,
   "metadata": {},
   "outputs": [
    {
     "name": "stdout",
     "output_type": "stream",
     "text": [
      "<class 'pandas.core.frame.DataFrame'>\n",
      "RangeIndex: 100150807 entries, 0 to 100150806\n",
      "Data columns (total 9 columns):\n",
      " #   Column         Dtype         \n",
      "---  ------         -----         \n",
      " 0   user_id        int64         \n",
      " 1   item_id        int64         \n",
      " 2   category_id    int64         \n",
      " 3   behavior_type  object        \n",
      " 4   timestamp      datetime64[ns]\n",
      " 5   date           object        \n",
      " 6   time           object        \n",
      " 7   week           object        \n",
      " 8   hour           object        \n",
      "dtypes: datetime64[ns](1), int64(3), object(5)\n",
      "memory usage: 6.7+ GB\n"
     ]
    }
   ],
   "source": [
    "taobao_df.info()"
   ]
  },
  {
   "cell_type": "code",
   "execution_count": 6,
   "metadata": {},
   "outputs": [],
   "source": [
    "taobao_df['date'] = pd.to_datetime(taobao_df['date'])\n",
    "\n",
    "start_date = pd.to_datetime('2017-11-25')\n",
    "end_date = pd.to_datetime('2017-12-03')\n",
    "\n",
    "\n",
    "filtered_taobao_df = taobao_df[(taobao_df['date'] >= start_date) & (taobao_df['date'] <= end_date)]\n"
   ]
  },
  {
   "cell_type": "code",
   "execution_count": 9,
   "metadata": {},
   "outputs": [
    {
     "data": {
      "text/plain": [
       "(100095231, 9)"
      ]
     },
     "execution_count": 9,
     "metadata": {},
     "output_type": "execute_result"
    }
   ],
   "source": [
    "filtered_taobao_df.shape"
   ]
  },
  {
   "cell_type": "code",
   "execution_count": 12,
   "metadata": {},
   "outputs": [
    {
     "name": "stdout",
     "output_type": "stream",
     "text": [
      "         date        pv      uv   puv\n",
      "0  2017-11-25   9353423  686953  13.6\n",
      "1  2017-11-26   9567423  695869  13.7\n",
      "2  2017-11-27   9041187  689260  13.1\n",
      "3  2017-11-28   8842933  688042  12.9\n",
      "4  2017-11-29   9210821  697542  13.2\n",
      "5  2017-11-30   9358998  709586  13.2\n",
      "6  2017-12-01   9718959  718184  13.5\n",
      "7  2017-12-02  12329644  939383  13.1\n",
      "8  2017-12-03  12237300  936431  13.1\n"
     ]
    }
   ],
   "source": [
    "pv_data = filtered_taobao_df[filtered_taobao_df['behavior_type'] == 'pv']\n",
    "\n",
    "pv_uv_puv = pv_data.groupby('date').agg(\n",
    "    pv=('user_id', 'count'),  \n",
    "    uv=('user_id', pd.Series.nunique), \n",
    ").reset_index()\n",
    "\n",
    "pv_uv_puv['puv'] = round(pv_uv_puv['pv'] / pv_uv_puv['uv'], 1)\n",
    "\n",
    "print(pv_uv_puv.head(10))"
   ]
  },
  {
   "cell_type": "code",
   "execution_count": 13,
   "metadata": {},
   "outputs": [
    {
     "data": {
      "image/png": "[encoded data removed]",
      "text/plain": [
       "<Figure size 1000x600 with 1 Axes>"
      ]
     },
     "metadata": {},
     "output_type": "display_data"
    }
   ],
   "source": [
    "import matplotlib.pyplot as plt\n",
    "\n",
    "pv_uv_puv['date'] = pd.to_datetime(pv_uv_puv['date'])\n",
    "\n",
    "plt.figure(figsize=(10, 6))\n",
    "\n",
    "plt.plot(pv_uv_puv['date'], pv_uv_puv['pv'], label='PV', marker='o')\n",
    "\n",
    "plt.plot(pv_uv_puv['date'], pv_uv_puv['uv'], label='UV', marker='o')\n",
    "\n",
    "plt.title('Daily PV and UV')\n",
    "plt.xlabel('Date')\n",
    "plt.ylabel('Counts')\n",
    "plt.legend()\n",
    "plt.grid(True)\n",
    "plt.xticks(rotation=45) \n",
    "plt.tight_layout()\n",
    "plt.show()"
   ]
  },
  {
   "cell_type": "code",
   "execution_count": 15,
   "metadata": {},
   "outputs": [
    {
     "name": "stderr",
     "output_type": "stream",
     "text": [
      "C:\\Users\\user\\AppData\\Local\\Temp\\ipykernel_24376\\3583973492.py:1: SettingWithCopyWarning: \n",
      "A value is trying to be set on a copy of a slice from a DataFrame.\n",
      "Try using .loc[row_indexer,col_indexer] = value instead\n",
      "\n",
      "See the caveats in the documentation: https://pandas.pydata.org/pandas-docs/stable/user_guide/indexing.html#returning-a-view-versus-a-copy\n",
      "  filtered_taobao_df['dates'] = pd.to_datetime(filtered_taobao_df['date'])\n"
     ]
    },
    {
     "name": "stdout",
     "output_type": "stream",
     "text": [
      "        dates  retention_1\n",
      "0  2017-11-25     0.788700\n",
      "1  2017-11-26     0.777312\n",
      "2  2017-11-27     0.784840\n",
      "3  2017-11-28     0.791348\n",
      "4  2017-11-29     0.795558\n",
      "5  2017-11-30     0.796272\n",
      "6  2017-12-01     0.982475\n",
      "7  2017-12-02     0.979785\n",
      "8  2017-12-03          NaN\n"
     ]
    }
   ],
   "source": [
    "filtered_taobao_df['dates'] = pd.to_datetime(filtered_taobao_df['date'])\n",
    "\n",
    "user_dates = filtered_taobao_df.groupby(['user_id', 'dates']).size().reset_index(name='counts')\n",
    "\n",
    "user_dates = user_dates.merge(user_dates, on='user_id', suffixes=('_a', '_b'))\n",
    "\n",
    "user_dates['date_diff'] = (user_dates['dates_b'] - user_dates['dates_a']).dt.days\n",
    "\n",
    "next_day = user_dates[user_dates['date_diff'] == 1].groupby('dates_a').size()\n",
    "same_day = user_dates[user_dates['date_diff'] == 0].groupby('dates_a').size()\n",
    "\n",
    "retention_rate = (next_day / same_day).reset_index()\n",
    "retention_rate.columns = ['dates', 'retention_1']\n",
    "\n",
    "retention_rate['dates'] = retention_rate['dates'].dt.strftime('%Y-%m-%d')\n",
    "\n",
    "print(retention_rate)"
   ]
  },
  {
   "cell_type": "code",
   "execution_count": 16,
   "metadata": {},
   "outputs": [
    {
     "name": "stdout",
     "output_type": "stream",
     "text": [
      "流失用户: 88\n",
      "Total_pv: 89660688\n",
      "流失率: 9.81478081006918e-07\n"
     ]
    }
   ],
   "source": [
    "user_behavior_count = filtered_taobao_df.groupby('user_id').size()\n",
    "\n",
    "# find one time users\n",
    "bounce_users = user_behavior_count[user_behavior_count == 1].count()\n",
    "\n",
    "# check the total_pv\n",
    "total_pv = pv_uv_puv['pv'].sum()\n",
    "\n",
    "# check the % of  bounce users\n",
    "bounce_rate = bounce_users / total_pv\n",
    "\n",
    "# 输出结果\n",
    "print(\"流失用户:\", bounce_users)\n",
    "print(\"Total_pv:\", total_pv)\n",
    "print(\"流失率:\", bounce_rate)"
   ]
  },
  {
   "cell_type": "code",
   "execution_count": null,
   "metadata": {},
   "outputs": [],
   "source": [
    "filtered_taobao_df.to_csv(r\"C:\\Users\\user\\Desktop\\JDE9\\Taobao User Behavior Data Analysis\\claen_taobao_df.csv\", index=False)"
   ]
  }
 ],
 "metadata": {
  "kernelspec": {
   "display_name": "myEnv",
   "language": "python",
   "name": "python3"
  },
  "language_info": {
   "codemirror_mode": {
    "name": "ipython",
    "version": 3
   },
   "file_extension": ".py",
   "mimetype": "text/x-python",
   "name": "python",
   "nbconvert_exporter": "python",
   "pygments_lexer": "ipython3",
   "version": "3.12.3"
  }
 },
 "nbformat": 4,
 "nbformat_minor": 2
}
