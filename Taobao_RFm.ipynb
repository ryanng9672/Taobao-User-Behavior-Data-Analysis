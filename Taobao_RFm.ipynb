{
 "cells": [
  {
   "cell_type": "code",
   "execution_count": 11,
   "metadata": {},
   "outputs": [
    {
     "name": "stdout",
     "output_type": "stream",
     "text": [
      "          user_id  item_id  category_id behavior_type   timestamp\n",
      "43314727   237858  1062152      1464116            pv  1512212331\n",
      "88035905    44200  3916487      4135836            pv  1511931558\n",
      "38200464   920479  2816757       154040            pv  1512311001\n",
      "83578911   239462  2698818       154040            pv  1511783539\n",
      "78996463   947273  3991295      1029459            pv  1512273837\n"
     ]
    }
   ],
   "source": [
    "import pandas as pd\n",
    "\n",
    "\n",
    "column_names = ['user_id', 'item_id', 'category_id', 'behavior_type', 'timestamp']\n",
    "\n",
    "taobao_df = pd.read_csv(\n",
    "    r\"C:\\Users\\user\\Desktop\\JDE9\\Taobao User Behavior Data Analysis\\UserBehavior.csv\",\n",
    "    header=None,\n",
    "    names=column_names\n",
    ")\n",
    "\n",
    "df_sample = taobao_df.sample(n=10000000,random_state=42)\n",
    "\n",
    "print(df_sample.head(5))"
   ]
  },
  {
   "cell_type": "code",
   "execution_count": 12,
   "metadata": {},
   "outputs": [
    {
     "name": "stdout",
     "output_type": "stream",
     "text": [
      "check_taobao_df how may row (10000000, 5)\n",
      "drop_duplicates to taobao_df (10000000, 5)\n"
     ]
    }
   ],
   "source": [
    "print(\"check_taobao_df how may row\",df_sample.shape)\n",
    "df_sample.drop_duplicates()\n",
    "print(\"drop_duplicates to taobao_df\",df_sample.shape)"
   ]
  },
  {
   "cell_type": "code",
   "execution_count": 13,
   "metadata": {},
   "outputs": [
    {
     "data": {
      "text/plain": [
       "user_id          0\n",
       "item_id          0\n",
       "category_id      0\n",
       "behavior_type    0\n",
       "timestamp        0\n",
       "dtype: int64"
      ]
     },
     "execution_count": 13,
     "metadata": {},
     "output_type": "execute_result"
    }
   ],
   "source": [
    "df_sample.isnull().sum()"
   ]
  },
  {
   "cell_type": "code",
   "execution_count": 14,
   "metadata": {},
   "outputs": [
    {
     "name": "stdout",
     "output_type": "stream",
     "text": [
      "<class 'pandas.core.frame.DataFrame'>\n",
      "Index: 10000000 entries, 43314727 to 32394458\n",
      "Data columns (total 5 columns):\n",
      " #   Column         Dtype \n",
      "---  ------         ----- \n",
      " 0   user_id        int64 \n",
      " 1   item_id        int64 \n",
      " 2   category_id    int64 \n",
      " 3   behavior_type  object\n",
      " 4   timestamp      int64 \n",
      "dtypes: int64(4), object(1)\n",
      "memory usage: 457.8+ MB\n"
     ]
    }
   ],
   "source": [
    "df_sample.info()"
   ]
  },
  {
   "cell_type": "code",
   "execution_count": 15,
   "metadata": {},
   "outputs": [
    {
     "name": "stdout",
     "output_type": "stream",
     "text": [
      "          user_id  item_id  category_id behavior_type  \\\n",
      "43314727   237858  1062152      1464116            pv   \n",
      "88035905    44200  3916487      4135836            pv   \n",
      "38200464   920479  2816757       154040            pv   \n",
      "83578911   239462  2698818       154040            pv   \n",
      "78996463   947273  3991295      1029459            pv   \n",
      "\n",
      "                         timestamp  \n",
      "43314727 2017-12-02 18:58:51+08:00  \n",
      "88035905 2017-11-29 12:59:18+08:00  \n",
      "38200464 2017-12-03 22:23:21+08:00  \n",
      "83578911 2017-11-27 19:52:19+08:00  \n",
      "78996463 2017-12-03 12:03:57+08:00  \n"
     ]
    }
   ],
   "source": [
    "df_sample['timestamp'] = pd.to_datetime(df_sample['timestamp'], unit='s', utc=True)\n",
    "df_sample['timestamp'] = df_sample['timestamp'].dt.tz_convert('Asia/Shanghai')\n",
    "print(df_sample.head(5))"
   ]
  },
  {
   "cell_type": "code",
   "execution_count": 16,
   "metadata": {},
   "outputs": [
    {
     "name": "stdout",
     "output_type": "stream",
     "text": [
      "          user_id  item_id  category_id behavior_type           timestamp\n",
      "43314727   237858  1062152      1464116            pv 2017-12-02 18:58:51\n",
      "88035905    44200  3916487      4135836            pv 2017-11-29 12:59:18\n",
      "38200464   920479  2816757       154040            pv 2017-12-03 22:23:21\n",
      "83578911   239462  2698818       154040            pv 2017-11-27 19:52:19\n",
      "78996463   947273  3991295      1029459            pv 2017-12-03 12:03:57\n"
     ]
    }
   ],
   "source": [
    "df_sample['timestamp'] = df_sample['timestamp'].dt.tz_localize(None)\n",
    "print(df_sample.head(5))\n"
   ]
  },
  {
   "cell_type": "code",
   "execution_count": 17,
   "metadata": {},
   "outputs": [
    {
     "name": "stdout",
     "output_type": "stream",
     "text": [
      "          user_id  item_id  category_id behavior_type           timestamp  \\\n",
      "43314727   237858  1062152      1464116            pv 2017-12-02 18:58:51   \n",
      "88035905    44200  3916487      4135836            pv 2017-11-29 12:59:18   \n",
      "38200464   920479  2816757       154040            pv 2017-12-03 22:23:21   \n",
      "83578911   239462  2698818       154040            pv 2017-11-27 19:52:19   \n",
      "78996463   947273  3991295      1029459            pv 2017-12-03 12:03:57   \n",
      "\n",
      "                date      time week  \n",
      "43314727  2017-12-02  18:58:51  Sat  \n",
      "88035905  2017-11-29  12:59:18  Wed  \n",
      "38200464  2017-12-03  22:23:21  Sun  \n",
      "83578911  2017-11-27  19:52:19  Mon  \n",
      "78996463  2017-12-03  12:03:57  Sun  \n"
     ]
    }
   ],
   "source": [
    "def to_date(dt):\n",
    "    return dt.date()\n",
    "\n",
    "def to_time(dt):\n",
    "    return dt.time()\n",
    "\n",
    "def getWeek(dt):\n",
    "    return weekDict[dt.weekday()]\n",
    "\n",
    "\n",
    "weekDict = {0: 'Mon', 1: 'Tue', 2: 'Wed', 3: 'Thur', 4: 'Fri', 5: 'Sat', 6: 'Sun'}\n",
    "\n",
    "\n",
    "df_sample['date'] = df_sample['timestamp'].apply(to_date)\n",
    "df_sample['time'] = df_sample['timestamp'].apply(to_time)\n",
    "df_sample['week'] = df_sample['timestamp'].apply(getWeek)\n",
    "\n",
    "print(df_sample.head(5))"
   ]
  },
  {
   "cell_type": "code",
   "execution_count": 18,
   "metadata": {},
   "outputs": [],
   "source": [
    "df_sample['hour'] = df_sample['time'].astype(str).str.split(':').str[0]"
   ]
  },
  {
   "cell_type": "code",
   "execution_count": 19,
   "metadata": {},
   "outputs": [
    {
     "name": "stdout",
     "output_type": "stream",
     "text": [
      "<class 'pandas.core.frame.DataFrame'>\n",
      "Index: 10000000 entries, 43314727 to 32394458\n",
      "Data columns (total 9 columns):\n",
      " #   Column         Dtype         \n",
      "---  ------         -----         \n",
      " 0   user_id        int64         \n",
      " 1   item_id        int64         \n",
      " 2   category_id    int64         \n",
      " 3   behavior_type  object        \n",
      " 4   timestamp      datetime64[ns]\n",
      " 5   date           object        \n",
      " 6   time           object        \n",
      " 7   week           object        \n",
      " 8   hour           object        \n",
      "dtypes: datetime64[ns](1), int64(3), object(5)\n",
      "memory usage: 762.9+ MB\n"
     ]
    }
   ],
   "source": [
    "df_sample.info()"
   ]
  },
  {
   "cell_type": "code",
   "execution_count": 20,
   "metadata": {},
   "outputs": [],
   "source": [
    "df_sample['date'] = pd.to_datetime(df_sample['date'])\n",
    "\n",
    "start_date = pd.to_datetime('2017-11-25')\n",
    "end_date = pd.to_datetime('2017-12-03')\n",
    "\n",
    "\n",
    "filtered_taobao_df = df_sample[(df_sample['date'] >= start_date) & (df_sample['date'] <= end_date)]\n"
   ]
  },
  {
   "cell_type": "code",
   "execution_count": 49,
   "metadata": {},
   "outputs": [
    {
     "data": {
      "text/html": [
       "<div>\n",
       "<style scoped>\n",
       "    .dataframe tbody tr th:only-of-type {\n",
       "        vertical-align: middle;\n",
       "    }\n",
       "\n",
       "    .dataframe tbody tr th {\n",
       "        vertical-align: top;\n",
       "    }\n",
       "\n",
       "    .dataframe thead th {\n",
       "        text-align: right;\n",
       "    }\n",
       "</style>\n",
       "<table border=\"1\" class=\"dataframe\">\n",
       "  <thead>\n",
       "    <tr style=\"text-align: right;\">\n",
       "      <th></th>\n",
       "      <th>user_id</th>\n",
       "      <th>item_id</th>\n",
       "      <th>category_id</th>\n",
       "      <th>behavior_type</th>\n",
       "      <th>timestamp</th>\n",
       "      <th>date</th>\n",
       "      <th>time</th>\n",
       "      <th>week</th>\n",
       "      <th>hour</th>\n",
       "      <th>dates</th>\n",
       "    </tr>\n",
       "  </thead>\n",
       "  <tbody>\n",
       "    <tr>\n",
       "      <th>43314727</th>\n",
       "      <td>237858</td>\n",
       "      <td>1062152</td>\n",
       "      <td>1464116</td>\n",
       "      <td>pv</td>\n",
       "      <td>2017-12-02 18:58:51</td>\n",
       "      <td>2017-12-02</td>\n",
       "      <td>18:58:51</td>\n",
       "      <td>Sat</td>\n",
       "      <td>18</td>\n",
       "      <td>2017-12-02</td>\n",
       "    </tr>\n",
       "    <tr>\n",
       "      <th>88035905</th>\n",
       "      <td>44200</td>\n",
       "      <td>3916487</td>\n",
       "      <td>4135836</td>\n",
       "      <td>pv</td>\n",
       "      <td>2017-11-29 12:59:18</td>\n",
       "      <td>2017-11-29</td>\n",
       "      <td>12:59:18</td>\n",
       "      <td>Wed</td>\n",
       "      <td>12</td>\n",
       "      <td>2017-11-29</td>\n",
       "    </tr>\n",
       "    <tr>\n",
       "      <th>38200464</th>\n",
       "      <td>920479</td>\n",
       "      <td>2816757</td>\n",
       "      <td>154040</td>\n",
       "      <td>pv</td>\n",
       "      <td>2017-12-03 22:23:21</td>\n",
       "      <td>2017-12-03</td>\n",
       "      <td>22:23:21</td>\n",
       "      <td>Sun</td>\n",
       "      <td>22</td>\n",
       "      <td>2017-12-03</td>\n",
       "    </tr>\n",
       "    <tr>\n",
       "      <th>83578911</th>\n",
       "      <td>239462</td>\n",
       "      <td>2698818</td>\n",
       "      <td>154040</td>\n",
       "      <td>pv</td>\n",
       "      <td>2017-11-27 19:52:19</td>\n",
       "      <td>2017-11-27</td>\n",
       "      <td>19:52:19</td>\n",
       "      <td>Mon</td>\n",
       "      <td>19</td>\n",
       "      <td>2017-11-27</td>\n",
       "    </tr>\n",
       "    <tr>\n",
       "      <th>78996463</th>\n",
       "      <td>947273</td>\n",
       "      <td>3991295</td>\n",
       "      <td>1029459</td>\n",
       "      <td>pv</td>\n",
       "      <td>2017-12-03 12:03:57</td>\n",
       "      <td>2017-12-03</td>\n",
       "      <td>12:03:57</td>\n",
       "      <td>Sun</td>\n",
       "      <td>12</td>\n",
       "      <td>2017-12-03</td>\n",
       "    </tr>\n",
       "  </tbody>\n",
       "</table>\n",
       "</div>"
      ],
      "text/plain": [
       "          user_id  item_id  category_id behavior_type           timestamp  \\\n",
       "43314727   237858  1062152      1464116            pv 2017-12-02 18:58:51   \n",
       "88035905    44200  3916487      4135836            pv 2017-11-29 12:59:18   \n",
       "38200464   920479  2816757       154040            pv 2017-12-03 22:23:21   \n",
       "83578911   239462  2698818       154040            pv 2017-11-27 19:52:19   \n",
       "78996463   947273  3991295      1029459            pv 2017-12-03 12:03:57   \n",
       "\n",
       "               date      time week hour      dates  \n",
       "43314727 2017-12-02  18:58:51  Sat   18 2017-12-02  \n",
       "88035905 2017-11-29  12:59:18  Wed   12 2017-11-29  \n",
       "38200464 2017-12-03  22:23:21  Sun   22 2017-12-03  \n",
       "83578911 2017-11-27  19:52:19  Mon   19 2017-11-27  \n",
       "78996463 2017-12-03  12:03:57  Sun   12 2017-12-03  "
      ]
     },
     "execution_count": 49,
     "metadata": {},
     "output_type": "execute_result"
    }
   ],
   "source": [
    "filtered_taobao_df.head()"
   ]
  },
  {
   "cell_type": "code",
   "execution_count": 22,
   "metadata": {},
   "outputs": [
    {
     "name": "stdout",
     "output_type": "stream",
     "text": [
      "        date       pv      uv  puv\n",
      "0 2017-11-25   933406  375285  2.5\n",
      "1 2017-11-26   956045  384673  2.5\n",
      "2 2017-11-27   902287  374086  2.4\n",
      "3 2017-11-28   883247  370464  2.4\n",
      "4 2017-11-29   920640  380262  2.4\n",
      "5 2017-11-30   935278  387499  2.4\n",
      "6 2017-12-01   970255  394968  2.5\n",
      "7 2017-12-02  1230613  502795  2.4\n",
      "8 2017-12-03  1221971  499277  2.4\n"
     ]
    }
   ],
   "source": [
    "pv_data = filtered_taobao_df[filtered_taobao_df['behavior_type'] == 'pv']\n",
    "\n",
    "pv_uv_puv = pv_data.groupby('date').agg(\n",
    "    pv=('user_id', 'count'),  \n",
    "    uv=('user_id', pd.Series.nunique), \n",
    ").reset_index()\n",
    "\n",
    "pv_uv_puv['puv'] = round(pv_uv_puv['pv'] / pv_uv_puv['uv'], 1)\n",
    "\n",
    "print(pv_uv_puv.head(10))"
   ]
  },
  {
   "cell_type": "code",
   "execution_count": 24,
   "metadata": {},
   "outputs": [
    {
     "data": {
      "image/png": "[encoded data removed]",
      "text/plain": [
       "<Figure size 1000x600 with 1 Axes>"
      ]
     },
     "metadata": {},
     "output_type": "display_data"
    }
   ],
   "source": [
    "import matplotlib.pyplot as plt\n",
    "\n",
    "pv_uv_puv['date'] = pd.to_datetime(pv_uv_puv['date'])\n",
    "\n",
    "plt.figure(figsize=(10, 6))\n",
    "\n",
    "plt.plot(pv_uv_puv['date'], pv_uv_puv['pv'], label='PV', marker='o')\n",
    "\n",
    "plt.plot(pv_uv_puv['date'], pv_uv_puv['uv'], label='UV', marker='o')\n",
    "\n",
    "plt.title('Daily PV and UV')\n",
    "plt.xlabel('Date')\n",
    "plt.ylabel('Counts')\n",
    "plt.legend()\n",
    "plt.grid(True)\n",
    "plt.xticks(rotation=45) \n",
    "plt.tight_layout()\n",
    "plt.show()"
   ]
  },
  {
   "cell_type": "code",
   "execution_count": 25,
   "metadata": {},
   "outputs": [
    {
     "name": "stderr",
     "output_type": "stream",
     "text": [
      "C:\\Users\\Steven Luk\\AppData\\Local\\Temp\\ipykernel_4716\\3583973492.py:1: SettingWithCopyWarning: \n",
      "A value is trying to be set on a copy of a slice from a DataFrame.\n",
      "Try using .loc[row_indexer,col_indexer] = value instead\n",
      "\n",
      "See the caveats in the documentation: https://pandas.pydata.org/pandas-docs/stable/user_guide/indexing.html#returning-a-view-versus-a-copy\n",
      "  filtered_taobao_df['dates'] = pd.to_datetime(filtered_taobao_df['date'])\n"
     ]
    },
    {
     "name": "stdout",
     "output_type": "stream",
     "text": [
      "        dates  retention_1\n",
      "0  2017-11-25     0.539187\n",
      "1  2017-11-26     0.520152\n",
      "2  2017-11-27     0.527061\n",
      "3  2017-11-28     0.535256\n",
      "4  2017-11-29     0.535888\n",
      "5  2017-11-30     0.533649\n",
      "6  2017-12-01     0.619759\n",
      "7  2017-12-02     0.595449\n",
      "8  2017-12-03          NaN\n"
     ]
    }
   ],
   "source": [
    "filtered_taobao_df['dates'] = pd.to_datetime(filtered_taobao_df['date'])\n",
    "\n",
    "user_dates = filtered_taobao_df.groupby(['user_id', 'dates']).size().reset_index(name='counts')\n",
    "\n",
    "user_dates = user_dates.merge(user_dates, on='user_id', suffixes=('_a', '_b'))\n",
    "\n",
    "user_dates['date_diff'] = (user_dates['dates_b'] - user_dates['dates_a']).dt.days\n",
    "\n",
    "next_day = user_dates[user_dates['date_diff'] == 1].groupby('dates_a').size()\n",
    "same_day = user_dates[user_dates['date_diff'] == 0].groupby('dates_a').size()\n",
    "\n",
    "retention_rate = (next_day / same_day).reset_index()\n",
    "retention_rate.columns = ['dates', 'retention_1']\n",
    "\n",
    "retention_rate['dates'] = retention_rate['dates'].dt.strftime('%Y-%m-%d')\n",
    "\n",
    "print(retention_rate)"
   ]
  },
  {
   "cell_type": "code",
   "execution_count": 26,
   "metadata": {},
   "outputs": [
    {
     "name": "stdout",
     "output_type": "stream",
     "text": [
      "流失用户: 61106\n",
      "Total_pv: 8953742\n",
      "流失率: 0.006824632650795612\n"
     ]
    }
   ],
   "source": [
    "user_behavior_count = filtered_taobao_df.groupby('user_id').size()\n",
    "\n",
    "# find one time users\n",
    "bounce_users = user_behavior_count[user_behavior_count == 1].count()\n",
    "\n",
    "# check the total_pv\n",
    "total_pv = pv_uv_puv['pv'].sum()\n",
    "\n",
    "# check the % of  bounce users\n",
    "bounce_rate = bounce_users / total_pv\n",
    "\n",
    "# 输出结果\n",
    "print(\"流失用户:\", bounce_users)\n",
    "print(\"Total_pv:\", total_pv)\n",
    "print(\"流失率:\", bounce_rate)"
   ]
  },
  {
   "cell_type": "code",
   "execution_count": 34,
   "metadata": {},
   "outputs": [],
   "source": [
    "rfm_model_set_up = pd.DataFrame({\n",
    "    'path': ['0001', '1001', '0011', '1011', '0101', '1101', '0111', '1111'],\n",
    "    'description': [\n",
    "        'Direct Purchase',          # 直接買(buy)\n",
    "        'Browsed then Purchased',   # pv to buy\n",
    "        'Added to Cart then Purchased',  # Cart to buy\n",
    "        'Browsed and Added to Cart then Purchased',  # pv>cart>buy\n",
    "        'Favorited then Purchased',  # fav>buy\n",
    "        'Browsed and Favorited then Purchased',  # pv>fav>buy\n",
    "        'Favorited and Added to Cart then Purchased',  # fav>car>buy\n",
    "        'Browsed, Favorited and Added to Cart then Purchased'  # pv>fav>Car>buy\n",
    "    ]\n",
    "})"
   ]
  },
  {
   "cell_type": "code",
   "execution_count": 36,
   "metadata": {},
   "outputs": [
    {
     "data": {
      "text/html": [
       "<div>\n",
       "<style scoped>\n",
       "    .dataframe tbody tr th:only-of-type {\n",
       "        vertical-align: middle;\n",
       "    }\n",
       "\n",
       "    .dataframe tbody tr th {\n",
       "        vertical-align: top;\n",
       "    }\n",
       "\n",
       "    .dataframe thead th {\n",
       "        text-align: right;\n",
       "    }\n",
       "</style>\n",
       "<table border=\"1\" class=\"dataframe\">\n",
       "  <thead>\n",
       "    <tr style=\"text-align: right;\">\n",
       "      <th></th>\n",
       "      <th>path</th>\n",
       "      <th>description</th>\n",
       "    </tr>\n",
       "  </thead>\n",
       "  <tbody>\n",
       "    <tr>\n",
       "      <th>0</th>\n",
       "      <td>0001</td>\n",
       "      <td>Direct Purchase</td>\n",
       "    </tr>\n",
       "    <tr>\n",
       "      <th>1</th>\n",
       "      <td>1001</td>\n",
       "      <td>Browsed then Purchased</td>\n",
       "    </tr>\n",
       "    <tr>\n",
       "      <th>2</th>\n",
       "      <td>0011</td>\n",
       "      <td>Added to Cart then Purchased</td>\n",
       "    </tr>\n",
       "    <tr>\n",
       "      <th>3</th>\n",
       "      <td>1011</td>\n",
       "      <td>Browsed and Added to Cart then Purchased</td>\n",
       "    </tr>\n",
       "    <tr>\n",
       "      <th>4</th>\n",
       "      <td>0101</td>\n",
       "      <td>Favorited then Purchased</td>\n",
       "    </tr>\n",
       "    <tr>\n",
       "      <th>5</th>\n",
       "      <td>1101</td>\n",
       "      <td>Browsed and Favorited then Purchased</td>\n",
       "    </tr>\n",
       "    <tr>\n",
       "      <th>6</th>\n",
       "      <td>0111</td>\n",
       "      <td>Favorited and Added to Cart then Purchased</td>\n",
       "    </tr>\n",
       "    <tr>\n",
       "      <th>7</th>\n",
       "      <td>1111</td>\n",
       "      <td>Browsed, Favorited and Added to Cart then Purc...</td>\n",
       "    </tr>\n",
       "  </tbody>\n",
       "</table>\n",
       "</div>"
      ],
      "text/plain": [
       "   path                                        description\n",
       "0  0001                                    Direct Purchase\n",
       "1  1001                             Browsed then Purchased\n",
       "2  0011                       Added to Cart then Purchased\n",
       "3  1011           Browsed and Added to Cart then Purchased\n",
       "4  0101                           Favorited then Purchased\n",
       "5  1101               Browsed and Favorited then Purchased\n",
       "6  0111         Favorited and Added to Cart then Purchased\n",
       "7  1111  Browsed, Favorited and Added to Cart then Purc..."
      ]
     },
     "execution_count": 36,
     "metadata": {},
     "output_type": "execute_result"
    }
   ],
   "source": [
    "rfm_model_set_up"
   ]
  },
  {
   "cell_type": "code",
   "execution_count": 28,
   "metadata": {},
   "outputs": [],
   "source": [
    "user_taobao_view = filtered_taobao_df.groupby(['user_id', 'item_id']).agg(\n",
    "    pv=('behavior_type', lambda x: x[x == 'pv'].count()),\n",
    "    fav=('behavior_type', lambda x: x[x == 'fav'].count()),\n",
    "    cart=('behavior_type', lambda x: x[x == 'cart'].count()),\n",
    "    buy=('behavior_type', lambda x: x[x == 'buy'].count())\n",
    ").reset_index()"
   ]
  },
  {
   "cell_type": "code",
   "execution_count": 29,
   "metadata": {},
   "outputs": [],
   "source": [
    "user_taobao_standard = user_taobao_view.assign(\n",
    "    user_pv =lambda x: (x['pv'] > 0).astype(int),\n",
    "    user_fav=lambda x: (x['fav'] > 0).astype(int),\n",
    "    user_cart=lambda x: (x['cart'] > 0).astype(int),\n",
    "    user_buy=lambda x: (x['buy'] > 0).astype(int)\n",
    ")"
   ]
  },
  {
   "cell_type": "code",
   "execution_count": 30,
   "metadata": {},
   "outputs": [
    {
     "name": "stderr",
     "output_type": "stream",
     "text": [
      "C:\\Users\\Steven Luk\\AppData\\Local\\Temp\\ipykernel_4716\\848672273.py:2: SettingWithCopyWarning: \n",
      "A value is trying to be set on a copy of a slice from a DataFrame.\n",
      "Try using .loc[row_indexer,col_indexer] = value instead\n",
      "\n",
      "See the caveats in the documentation: https://pandas.pydata.org/pandas-docs/stable/user_guide/indexing.html#returning-a-view-versus-a-copy\n",
      "  user_taobao_path['path'] = (\n"
     ]
    }
   ],
   "source": [
    "user_taobao_path = user_taobao_standard[user_taobao_standard['user_buy'] > 0]\n",
    "user_taobao_path['path'] = (\n",
    "    user_taobao_path['user_pv'].astype(str) +\n",
    "    user_taobao_path['user_fav'].astype(str) +\n",
    "    user_taobao_path['user_cart'].astype(str) +\n",
    "    user_taobao_path['user_buy'].astype(str)\n",
    ")"
   ]
  },
  {
   "cell_type": "code",
   "execution_count": 37,
   "metadata": {},
   "outputs": [],
   "source": [
    "path_count = user_taobao_path.groupby('path').size().reset_index(name='quantities').sort_values(by='quantities', ascending=False)"
   ]
  },
  {
   "cell_type": "code",
   "execution_count": 33,
   "metadata": {},
   "outputs": [
    {
     "data": {
      "text/html": [
       "<div>\n",
       "<style scoped>\n",
       "    .dataframe tbody tr th:only-of-type {\n",
       "        vertical-align: middle;\n",
       "    }\n",
       "\n",
       "    .dataframe tbody tr th {\n",
       "        vertical-align: top;\n",
       "    }\n",
       "\n",
       "    .dataframe thead th {\n",
       "        text-align: right;\n",
       "    }\n",
       "</style>\n",
       "<table border=\"1\" class=\"dataframe\">\n",
       "  <thead>\n",
       "    <tr style=\"text-align: right;\">\n",
       "      <th></th>\n",
       "      <th>path</th>\n",
       "      <th>quantities</th>\n",
       "    </tr>\n",
       "  </thead>\n",
       "  <tbody>\n",
       "    <tr>\n",
       "      <th>0</th>\n",
       "      <td>0001</td>\n",
       "      <td>164794</td>\n",
       "    </tr>\n",
       "    <tr>\n",
       "      <th>4</th>\n",
       "      <td>1001</td>\n",
       "      <td>30613</td>\n",
       "    </tr>\n",
       "    <tr>\n",
       "      <th>1</th>\n",
       "      <td>0011</td>\n",
       "      <td>2997</td>\n",
       "    </tr>\n",
       "    <tr>\n",
       "      <th>2</th>\n",
       "      <td>0101</td>\n",
       "      <td>1015</td>\n",
       "    </tr>\n",
       "    <tr>\n",
       "      <th>5</th>\n",
       "      <td>1011</td>\n",
       "      <td>875</td>\n",
       "    </tr>\n",
       "  </tbody>\n",
       "</table>\n",
       "</div>"
      ],
      "text/plain": [
       "   path  quantities\n",
       "0  0001      164794\n",
       "4  1001       30613\n",
       "1  0011        2997\n",
       "2  0101        1015\n",
       "5  1011         875"
      ]
     },
     "execution_count": 33,
     "metadata": {},
     "output_type": "execute_result"
    }
   ],
   "source": [
    "path_count.head()"
   ]
  },
  {
   "cell_type": "code",
   "execution_count": 40,
   "metadata": {},
   "outputs": [],
   "source": [
    "path_result = pd.merge(path_count, rfm_model_set_up, on='path', how='inner')\n",
    "path_result = path_result[['path', 'description', 'quantities']].sort_values(by='quantities', ascending=False)"
   ]
  },
  {
   "cell_type": "code",
   "execution_count": 41,
   "metadata": {},
   "outputs": [
    {
     "name": "stdout",
     "output_type": "stream",
     "text": [
      "   path                                        description  quantities\n",
      "0  0001                                    Direct Purchase      164794\n",
      "1  1001                             Browsed then Purchased       30613\n",
      "2  0011                       Added to Cart then Purchased        2997\n",
      "3  0101                           Favorited then Purchased        1015\n",
      "4  1011           Browsed and Added to Cart then Purchased         875\n",
      "5  1101               Browsed and Favorited then Purchased         304\n",
      "6  0111         Favorited and Added to Cart then Purchased          11\n",
      "7  1111  Browsed, Favorited and Added to Cart then Purc...           4\n"
     ]
    }
   ],
   "source": [
    "print(path_result)"
   ]
  },
  {
   "cell_type": "code",
   "execution_count": 51,
   "metadata": {},
   "outputs": [
    {
     "name": "stdout",
     "output_type": "stream",
     "text": [
      "         recency  frequency recency_score frequency_score\n",
      "user_id                                                  \n",
      "2           2325          1             5               1\n",
      "4           2328          1             3               1\n",
      "25          2329          1             3               1\n",
      "28          2325          1             5               1\n",
      "41          2330          2             2               5\n",
      "...          ...        ...           ...             ...\n",
      "1017969     2331          1             2               5\n",
      "1017972     2329          2             3               5\n",
      "1017983     2327          1             4               5\n",
      "1017987     2326          1             5               5\n",
      "1017999     2331          1             2               5\n",
      "\n",
      "[165481 rows x 4 columns]\n"
     ]
    }
   ],
   "source": [
    "from datetime import datetime\n",
    "df_purchases = filtered_taobao_df[filtered_taobao_df['behavior_type'] == 'buy']\n",
    "\n",
    "rfm = df_purchases.groupby('user_id').agg({\n",
    "    'timestamp': lambda x: (datetime.now() - x.max()).days,  \n",
    "    'user_id': 'count'   \n",
    "}).rename(columns={'timestamp': 'recency', 'user_id': 'frequency'})\n",
    "\n",
    "\n",
    "rfm['recency_score'] = pd.qcut(rfm['recency'], 5, labels=[5, 4, 3, 2, 1])  \n",
    "rfm['frequency_score'] = pd.qcut(rfm['frequency'].rank(method='first'), 5, labels=[1, 2, 3, 4, 5])  \n",
    "\n",
    "\n",
    "print(rfm)"
   ]
  },
  {
   "cell_type": "code",
   "execution_count": 84,
   "metadata": {},
   "outputs": [
    {
     "name": "stdout",
     "output_type": "stream",
     "text": [
      "        user_id  recency  frequency recency_score frequency_score  fscore  \\\n",
      "0             2     2325          1             5               1       1   \n",
      "1             4     2328          1             3               1       1   \n",
      "2            25     2329          1             3               1       1   \n",
      "3            28     2325          1             5               1       1   \n",
      "4            41     2330          2             2               5       1   \n",
      "...         ...      ...        ...           ...             ...     ...   \n",
      "165476  1017969     2331          1             2               5       1   \n",
      "165477  1017972     2329          2             3               5       1   \n",
      "165478  1017983     2327          1             4               5       1   \n",
      "165479  1017987     2326          1             5               5       1   \n",
      "165480  1017999     2331          1             2               5       1   \n",
      "\n",
      "        rscore           class  \n",
      "0            5  Diamond Member  \n",
      "1            3          Silver  \n",
      "2            3          Silver  \n",
      "3            5  Diamond Member  \n",
      "4            2          Bronze  \n",
      "...        ...             ...  \n",
      "165476       2          Bronze  \n",
      "165477       3          Silver  \n",
      "165478       4            Gold  \n",
      "165479       5  Diamond Member  \n",
      "165480       2          Bronze  \n",
      "\n",
      "[165481 rows x 8 columns]\n",
      "            class  count\n",
      "0          Bronze  57747\n",
      "1  Diamond Member  53359\n",
      "2            Gold  18232\n",
      "3          Silver  36143\n"
     ]
    }
   ],
   "source": [
    "def calculate_fscore(x):\n",
    "    if x >= 100:\n",
    "        return 5\n",
    "    elif 50 <= x < 100:\n",
    "        return 4\n",
    "    elif 20 <= x < 50:\n",
    "        return 3\n",
    "    elif 5 <= x < 20:\n",
    "        return 2\n",
    "    else:\n",
    "        return 1\n",
    "\n",
    "rfm['fscore'] = rfm['frequency'].apply(calculate_fscore)\n",
    "\n",
    "rfm['rscore'] = pd.qcut(rfm['recency'], 5, labels=[5, 4, 3, 2, 1]).astype(int)\n",
    "\n",
    "def classify_user(row):\n",
    "    if row['fscore'] <= 2 and 1 <= row['rscore'] <= 2:\n",
    "        return 'Bronze'\n",
    "    elif row['fscore'] <= 3 and 2 <= row['rscore'] <= 3:\n",
    "        return 'Silver'\n",
    "    elif row['fscore'] <= 4 and 3 <= row['rscore'] <= 4:\n",
    "        return 'Gold'\n",
    "    else:\n",
    "        return 'Diamond Member'\n",
    "\n",
    "rfm['class'] = rfm.apply(classify_user, axis=1)\n",
    "\n",
    "print(rfm)\n",
    "print(rfm.groupby('class')['frequency'].count().reset_index().rename(columns={'frequency': 'count'}))"
   ]
  },
  {
   "cell_type": "code",
   "execution_count": 85,
   "metadata": {},
   "outputs": [
    {
     "data": {
      "text/plain": [
       "class\n",
       "Bronze            57747\n",
       "Diamond Member    53359\n",
       "Silver            36143\n",
       "Gold              18232\n",
       "Name: count, dtype: int64"
      ]
     },
     "execution_count": 85,
     "metadata": {},
     "output_type": "execute_result"
    }
   ],
   "source": [
    "#rfm = rfm.reset_index(drop=True)\n",
    "rfm['class'].value_counts()"
   ]
  },
  {
   "cell_type": "code",
   "execution_count": 86,
   "metadata": {},
   "outputs": [
    {
     "data": {
      "image/png": "[encoded data removed]",
      "text/plain": [
       "<Figure size 1000x700 with 1 Axes>"
      ]
     },
     "metadata": {},
     "output_type": "display_data"
    }
   ],
   "source": [
    "class_counts = rfm.groupby('class')['user_id'].count()\n",
    "\n",
    "plt.figure(figsize=(10, 7)) \n",
    "plt.pie(class_counts, labels=class_counts.index, autopct='%1.1f%%', startangle=140)\n",
    "plt.title('Membership Classification Proportions')\n",
    "plt.show()"
   ]
  }
 ],
 "metadata": {
  "kernelspec": {
   "display_name": "myEnv",
   "language": "python",
   "name": "python3"
  },
  "language_info": {
   "codemirror_mode": {
    "name": "ipython",
    "version": 3
   },
   "file_extension": ".py",
   "mimetype": "text/x-python",
   "name": "python",
   "nbconvert_exporter": "python",
   "pygments_lexer": "ipython3",
   "version": "3.12.3"
  }
 },
 "nbformat": 4,
 "nbformat_minor": 2
}
